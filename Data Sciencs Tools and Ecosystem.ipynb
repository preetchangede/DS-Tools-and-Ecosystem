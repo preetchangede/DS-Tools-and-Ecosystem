{
 "cells": [
  {
   "cell_type": "markdown",
   "id": "bec1b066",
   "metadata": {},
   "source": [
    "# Data Science Tools and Ecosystem"
   ]
  },
  {
   "cell_type": "markdown",
   "id": "5c54528f",
   "metadata": {},
   "source": [
    "## In this notebook, Data Science tools and Ecosystem are summarised."
   ]
  },
  {
   "cell_type": "markdown",
   "id": "8f1f40ea",
   "metadata": {},
   "source": [
    "## **Objectives:**\n",
    "* List popular languages of Data Science.\n",
    "* Commonly used library by Data Scientists.\n",
    "* Data Science Tools\n",
    "* Executing Arithmetic expressions"
   ]
  },
  {
   "cell_type": "markdown",
   "id": "fe7b5e3d",
   "metadata": {},
   "source": [
    "### Some of the popular languages that Data Scientists use are: \n",
    "1. Python\n",
    "2. R\n",
    "3. SQL"
   ]
  },
  {
   "cell_type": "markdown",
   "id": "8139abbf",
   "metadata": {},
   "source": [
    "### Some of the commonly used libraries used by Data Scientists include:\n",
    "1. Pandas\n",
    "2. Numpy\n",
    "3. Matplotlib\n",
    "4. Plotly"
   ]
  },
  {
   "cell_type": "markdown",
   "id": "f0345d1f",
   "metadata": {},
   "source": [
    "|Data Science Tools       |\n",
    "|-------------------------|\n",
    "|Jupyter Notebook         |\n",
    "|RStudio                  |\n",
    "|VS Code with Python      |"
   ]
  },
  {
   "cell_type": "markdown",
   "id": "ce5ea365",
   "metadata": {},
   "source": [
    "### Below are a few examples of evaluating arithmetic expressions in Python."
   ]
  },
  {
   "cell_type": "code",
   "execution_count": 6,
   "id": "fd189173",
   "metadata": {},
   "outputs": [
    {
     "data": {
      "text/plain": [
       "17"
      ]
     },
     "execution_count": 6,
     "metadata": {},
     "output_type": "execute_result"
    }
   ],
   "source": [
    "# This a simple arithmetic expression to mutiply then add integers.\n",
    "(3*4)+5"
   ]
  },
  {
   "cell_type": "code",
   "execution_count": 7,
   "id": "c2925e8f",
   "metadata": {},
   "outputs": [
    {
     "name": "stdout",
     "output_type": "stream",
     "text": [
      "3.3333333333333335\n"
     ]
    }
   ],
   "source": [
    "# This will convert 200 minutes to hours by diving by 60.\n",
    "minutes_to_hours = 200/60\n",
    "print(minutes_to_hours)"
   ]
  },
  {
   "cell_type": "markdown",
   "id": "dd720ea7",
   "metadata": {},
   "source": [
    "## Author\n",
    "Preet Changede"
   ]
  }
 ],
 "metadata": {
  "kernelspec": {
   "display_name": "Python 3 (ipykernel)",
   "language": "python",
   "name": "python3"
  },
  "language_info": {
   "codemirror_mode": {
    "name": "ipython",
    "version": 3
   },
   "file_extension": ".py",
   "mimetype": "text/x-python",
   "name": "python",
   "nbconvert_exporter": "python",
   "pygments_lexer": "ipython3",
   "version": "3.11.5"
  }
 },
 "nbformat": 4,
 "nbformat_minor": 5
}
